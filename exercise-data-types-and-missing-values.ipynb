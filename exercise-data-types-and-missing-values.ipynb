{
 "cells": [
  {
   "cell_type": "markdown",
   "metadata": {
    "papermill": {
     "duration": 0.017774,
     "end_time": "2021-03-13T16:31:53.664587",
     "exception": false,
     "start_time": "2021-03-13T16:31:53.646813",
     "status": "completed"
    },
    "tags": []
   },
   "source": [
    "**This notebook is an exercise in the [Pandas](https://www.kaggle.com/learn/pandas) course.  You can reference the tutorial at [this link](https://www.kaggle.com/residentmario/data-types-and-missing-values).**\n",
    "\n",
    "---\n"
   ]
  },
  {
   "cell_type": "markdown",
   "metadata": {
    "papermill": {
     "duration": 0.015163,
     "end_time": "2021-03-13T16:31:53.695798",
     "exception": false,
     "start_time": "2021-03-13T16:31:53.680635",
     "status": "completed"
    },
    "tags": []
   },
   "source": [
    "# Introduction\n",
    "\n",
    "Run the following cell to load your data and some utility functions."
   ]
  },
  {
   "cell_type": "code",
   "execution_count": 1,
   "metadata": {
    "execution": {
     "iopub.execute_input": "2021-03-13T16:31:53.732422Z",
     "iopub.status.busy": "2021-03-13T16:31:53.731458Z",
     "iopub.status.idle": "2021-03-13T16:31:57.998536Z",
     "shell.execute_reply": "2021-03-13T16:31:57.999288Z"
    },
    "papermill": {
     "duration": 4.288152,
     "end_time": "2021-03-13T16:31:57.999718",
     "exception": false,
     "start_time": "2021-03-13T16:31:53.711566",
     "status": "completed"
    },
    "tags": []
   },
   "outputs": [
    {
     "name": "stdout",
     "output_type": "stream",
     "text": [
      "Setup complete.\n"
     ]
    }
   ],
   "source": [
    "import pandas as pd\n",
    "\n",
    "reviews = pd.read_csv(\"../input/wine-reviews/winemag-data-130k-v2.csv\", index_col=0)\n",
    "\n",
    "from learntools.core import binder; binder.bind(globals())\n",
    "from learntools.pandas.data_types_and_missing_data import *\n",
    "print(\"Setup complete.\")"
   ]
  },
  {
   "cell_type": "markdown",
   "metadata": {
    "papermill": {
     "duration": 0.016323,
     "end_time": "2021-03-13T16:31:58.034781",
     "exception": false,
     "start_time": "2021-03-13T16:31:58.018458",
     "status": "completed"
    },
    "tags": []
   },
   "source": [
    "# Exercises"
   ]
  },
  {
   "cell_type": "markdown",
   "metadata": {
    "papermill": {
     "duration": 0.016323,
     "end_time": "2021-03-13T16:31:58.068899",
     "exception": false,
     "start_time": "2021-03-13T16:31:58.052576",
     "status": "completed"
    },
    "tags": []
   },
   "source": [
    "## 1. \n",
    "What is the data type of the `points` column in the dataset?"
   ]
  },
  {
   "cell_type": "code",
   "execution_count": 2,
   "metadata": {
    "execution": {
     "iopub.execute_input": "2021-03-13T16:31:58.111926Z",
     "iopub.status.busy": "2021-03-13T16:31:58.108625Z",
     "iopub.status.idle": "2021-03-13T16:31:58.120342Z",
     "shell.execute_reply": "2021-03-13T16:31:58.119407Z"
    },
    "papermill": {
     "duration": 0.034514,
     "end_time": "2021-03-13T16:31:58.120547",
     "exception": false,
     "start_time": "2021-03-13T16:31:58.086033",
     "status": "completed"
    },
    "tags": []
   },
   "outputs": [
    {
     "data": {
      "application/javascript": [
       "parent.postMessage({\"jupyterEvent\": \"custom.exercise_interaction\", \"data\": {\"outcomeType\": 1, \"valueTowardsCompletion\": 0.25, \"interactionType\": 1, \"questionType\": 1, \"questionId\": \"1_PointsDtype\", \"learnToolsVersion\": \"0.3.4\", \"failureMessage\": \"\", \"exceptionClass\": \"\", \"trace\": \"\"}}, \"*\")"
      ],
      "text/plain": [
       "<IPython.core.display.Javascript object>"
      ]
     },
     "metadata": {},
     "output_type": "display_data"
    },
    {
     "data": {
      "text/markdown": [
       "<span style=\"color:#33cc33\">Correct</span>"
      ],
      "text/plain": [
       "Correct"
      ]
     },
     "metadata": {},
     "output_type": "display_data"
    }
   ],
   "source": [
    "# Your code here\n",
    "dtype = reviews.points.dtype\n",
    "\n",
    "# Check your answer\n",
    "q1.check()"
   ]
  },
  {
   "cell_type": "code",
   "execution_count": 3,
   "metadata": {
    "execution": {
     "iopub.execute_input": "2021-03-13T16:31:58.151865Z",
     "iopub.status.busy": "2021-03-13T16:31:58.151088Z",
     "iopub.status.idle": "2021-03-13T16:31:58.156977Z",
     "shell.execute_reply": "2021-03-13T16:31:58.157506Z"
    },
    "papermill": {
     "duration": 0.024501,
     "end_time": "2021-03-13T16:31:58.157706",
     "exception": false,
     "start_time": "2021-03-13T16:31:58.133205",
     "status": "completed"
    },
    "tags": []
   },
   "outputs": [],
   "source": [
    "#q1.hint()\n",
    "#q1.solution()"
   ]
  },
  {
   "cell_type": "markdown",
   "metadata": {
    "papermill": {
     "duration": 0.012052,
     "end_time": "2021-03-13T16:31:58.182259",
     "exception": false,
     "start_time": "2021-03-13T16:31:58.170207",
     "status": "completed"
    },
    "tags": []
   },
   "source": [
    "## 2. \n",
    "Create a Series from entries in the `points` column, but convert the entries to strings. Hint: strings are `str` in native Python."
   ]
  },
  {
   "cell_type": "code",
   "execution_count": 4,
   "metadata": {
    "execution": {
     "iopub.execute_input": "2021-03-13T16:31:58.213868Z",
     "iopub.status.busy": "2021-03-13T16:31:58.213014Z",
     "iopub.status.idle": "2021-03-13T16:31:58.425744Z",
     "shell.execute_reply": "2021-03-13T16:31:58.424789Z"
    },
    "papermill": {
     "duration": 0.231131,
     "end_time": "2021-03-13T16:31:58.425926",
     "exception": false,
     "start_time": "2021-03-13T16:31:58.194795",
     "status": "completed"
    },
    "tags": []
   },
   "outputs": [
    {
     "data": {
      "application/javascript": [
       "parent.postMessage({\"jupyterEvent\": \"custom.exercise_interaction\", \"data\": {\"outcomeType\": 1, \"valueTowardsCompletion\": 0.25, \"interactionType\": 1, \"questionType\": 1, \"questionId\": \"2_StrPoints\", \"learnToolsVersion\": \"0.3.4\", \"failureMessage\": \"\", \"exceptionClass\": \"\", \"trace\": \"\"}}, \"*\")"
      ],
      "text/plain": [
       "<IPython.core.display.Javascript object>"
      ]
     },
     "metadata": {},
     "output_type": "display_data"
    },
    {
     "data": {
      "text/markdown": [
       "<span style=\"color:#33cc33\">Correct</span>"
      ],
      "text/plain": [
       "Correct"
      ]
     },
     "metadata": {},
     "output_type": "display_data"
    }
   ],
   "source": [
    "point_strings = reviews.points.astype(str)\n",
    "\n",
    "# Check your answer\n",
    "q2.check()"
   ]
  },
  {
   "cell_type": "code",
   "execution_count": 5,
   "metadata": {
    "execution": {
     "iopub.execute_input": "2021-03-13T16:31:58.473907Z",
     "iopub.status.busy": "2021-03-13T16:31:58.472737Z",
     "iopub.status.idle": "2021-03-13T16:31:58.478669Z",
     "shell.execute_reply": "2021-03-13T16:31:58.477630Z"
    },
    "papermill": {
     "duration": 0.031729,
     "end_time": "2021-03-13T16:31:58.478853",
     "exception": false,
     "start_time": "2021-03-13T16:31:58.447124",
     "status": "completed"
    },
    "tags": []
   },
   "outputs": [],
   "source": [
    "#q2.hint()\n",
    "#q2.solution()"
   ]
  },
  {
   "cell_type": "markdown",
   "metadata": {
    "papermill": {
     "duration": 0.020254,
     "end_time": "2021-03-13T16:31:58.519844",
     "exception": false,
     "start_time": "2021-03-13T16:31:58.499590",
     "status": "completed"
    },
    "tags": []
   },
   "source": [
    "## 3.\n",
    "Sometimes the price column is null. How many reviews in the dataset are missing a price?"
   ]
  },
  {
   "cell_type": "code",
   "execution_count": 6,
   "metadata": {
    "execution": {
     "iopub.execute_input": "2021-03-13T16:31:58.569961Z",
     "iopub.status.busy": "2021-03-13T16:31:58.569070Z",
     "iopub.status.idle": "2021-03-13T16:31:58.579075Z",
     "shell.execute_reply": "2021-03-13T16:31:58.579574Z"
    },
    "papermill": {
     "duration": 0.03723,
     "end_time": "2021-03-13T16:31:58.579748",
     "exception": false,
     "start_time": "2021-03-13T16:31:58.542518",
     "status": "completed"
    },
    "tags": []
   },
   "outputs": [
    {
     "data": {
      "application/javascript": [
       "parent.postMessage({\"jupyterEvent\": \"custom.exercise_interaction\", \"data\": {\"outcomeType\": 1, \"valueTowardsCompletion\": 0.25, \"interactionType\": 1, \"questionType\": 1, \"questionId\": \"3_CountMissingPrices\", \"learnToolsVersion\": \"0.3.4\", \"failureMessage\": \"\", \"exceptionClass\": \"\", \"trace\": \"\"}}, \"*\")"
      ],
      "text/plain": [
       "<IPython.core.display.Javascript object>"
      ]
     },
     "metadata": {},
     "output_type": "display_data"
    },
    {
     "data": {
      "text/markdown": [
       "<span style=\"color:#33cc33\">Correct</span>"
      ],
      "text/plain": [
       "Correct"
      ]
     },
     "metadata": {},
     "output_type": "display_data"
    }
   ],
   "source": [
    "n_missing_prices = reviews.price.isnull().sum()\n",
    "\n",
    "# Check your answer\n",
    "q3.check()"
   ]
  },
  {
   "cell_type": "code",
   "execution_count": 7,
   "metadata": {
    "execution": {
     "iopub.execute_input": "2021-03-13T16:31:58.617945Z",
     "iopub.status.busy": "2021-03-13T16:31:58.617039Z",
     "iopub.status.idle": "2021-03-13T16:31:58.620601Z",
     "shell.execute_reply": "2021-03-13T16:31:58.619867Z"
    },
    "papermill": {
     "duration": 0.024833,
     "end_time": "2021-03-13T16:31:58.620756",
     "exception": false,
     "start_time": "2021-03-13T16:31:58.595923",
     "status": "completed"
    },
    "tags": []
   },
   "outputs": [],
   "source": [
    "#q3.hint()\n",
    "#q3.solution()"
   ]
  },
  {
   "cell_type": "markdown",
   "metadata": {
    "papermill": {
     "duration": 0.014667,
     "end_time": "2021-03-13T16:31:58.650692",
     "exception": false,
     "start_time": "2021-03-13T16:31:58.636025",
     "status": "completed"
    },
    "tags": []
   },
   "source": [
    "## 4.\n",
    "What are the most common wine-producing regions? Create a Series counting the number of times each value occurs in the `region_1` field. This field is often missing data, so replace missing values with `Unknown`. Sort in descending order.  Your output should look something like this:\n",
    "\n",
    "```\n",
    "Unknown                    21247\n",
    "Napa Valley                 4480\n",
    "                           ...  \n",
    "Bardolino Superiore            1\n",
    "Primitivo del Tarantino        1\n",
    "Name: region_1, Length: 1230, dtype: int64\n",
    "```"
   ]
  },
  {
   "cell_type": "code",
   "execution_count": 8,
   "metadata": {
    "execution": {
     "iopub.execute_input": "2021-03-13T16:31:58.698986Z",
     "iopub.status.busy": "2021-03-13T16:31:58.684960Z",
     "iopub.status.idle": "2021-03-13T16:31:58.790856Z",
     "shell.execute_reply": "2021-03-13T16:31:58.790259Z"
    },
    "papermill": {
     "duration": 0.129609,
     "end_time": "2021-03-13T16:31:58.791008",
     "exception": false,
     "start_time": "2021-03-13T16:31:58.661399",
     "status": "completed"
    },
    "tags": []
   },
   "outputs": [
    {
     "data": {
      "application/javascript": [
       "parent.postMessage({\"jupyterEvent\": \"custom.exercise_interaction\", \"data\": {\"outcomeType\": 1, \"valueTowardsCompletion\": 0.25, \"interactionType\": 1, \"questionType\": 2, \"questionId\": \"4_ReviewsPerRegion\", \"learnToolsVersion\": \"0.3.4\", \"failureMessage\": \"\", \"exceptionClass\": \"\", \"trace\": \"\"}}, \"*\")"
      ],
      "text/plain": [
       "<IPython.core.display.Javascript object>"
      ]
     },
     "metadata": {},
     "output_type": "display_data"
    },
    {
     "data": {
      "text/markdown": [
       "<span style=\"color:#33cc33\">Correct</span>"
      ],
      "text/plain": [
       "Correct"
      ]
     },
     "metadata": {},
     "output_type": "display_data"
    }
   ],
   "source": [
    "reviews.region_1.fillna('Unknown', inplace=True)\n",
    "reviews_per_region = reviews.groupby('region_1').size().sort_values(ascending=False)\n",
    "\n",
    "# Check your answer\n",
    "q4.check()"
   ]
  },
  {
   "cell_type": "code",
   "execution_count": 9,
   "metadata": {
    "execution": {
     "iopub.execute_input": "2021-03-13T16:31:58.828394Z",
     "iopub.status.busy": "2021-03-13T16:31:58.827742Z",
     "iopub.status.idle": "2021-03-13T16:31:58.833006Z",
     "shell.execute_reply": "2021-03-13T16:31:58.832473Z"
    },
    "papermill": {
     "duration": 0.026095,
     "end_time": "2021-03-13T16:31:58.833146",
     "exception": false,
     "start_time": "2021-03-13T16:31:58.807051",
     "status": "completed"
    },
    "tags": []
   },
   "outputs": [],
   "source": [
    "#q4.hint()\n",
    "#q4.solution()"
   ]
  },
  {
   "cell_type": "markdown",
   "metadata": {
    "papermill": {
     "duration": 0.017494,
     "end_time": "2021-03-13T16:31:58.868457",
     "exception": false,
     "start_time": "2021-03-13T16:31:58.850963",
     "status": "completed"
    },
    "tags": []
   },
   "source": [
    "# Keep going\n",
    "\n",
    "Move on to **[renaming and combining](https://www.kaggle.com/residentmario/renaming-and-combining)**."
   ]
  },
  {
   "cell_type": "markdown",
   "metadata": {
    "papermill": {
     "duration": 0.017382,
     "end_time": "2021-03-13T16:31:58.903511",
     "exception": false,
     "start_time": "2021-03-13T16:31:58.886129",
     "status": "completed"
    },
    "tags": []
   },
   "source": [
    "---\n",
    "\n",
    "\n",
    "\n",
    "\n",
    "*Have questions or comments? Visit the [Learn Discussion forum](https://www.kaggle.com/learn-forum/161299) to chat with other Learners.*"
   ]
  }
 ],
 "metadata": {
  "kernelspec": {
   "display_name": "Python 3",
   "language": "python",
   "name": "python3"
  },
  "language_info": {
   "codemirror_mode": {
    "name": "ipython",
    "version": 3
   },
   "file_extension": ".py",
   "mimetype": "text/x-python",
   "name": "python",
   "nbconvert_exporter": "python",
   "pygments_lexer": "ipython3",
   "version": "3.7.9"
  },
  "papermill": {
   "default_parameters": {},
   "duration": 15.144283,
   "end_time": "2021-03-13T16:31:59.638485",
   "environment_variables": {},
   "exception": null,
   "input_path": "__notebook__.ipynb",
   "output_path": "__notebook__.ipynb",
   "parameters": {},
   "start_time": "2021-03-13T16:31:44.494202",
   "version": "2.2.2"
  }
 },
 "nbformat": 4,
 "nbformat_minor": 4
}
