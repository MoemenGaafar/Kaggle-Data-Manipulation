{
 "cells": [
  {
   "cell_type": "markdown",
   "metadata": {
    "papermill": {
     "duration": 0.014176,
     "end_time": "2021-03-13T15:50:34.362030",
     "exception": false,
     "start_time": "2021-03-13T15:50:34.347854",
     "status": "completed"
    },
    "tags": []
   },
   "source": [
    "**This notebook is an exercise in the [Pandas](https://www.kaggle.com/learn/pandas) course.  You can reference the tutorial at [this link](https://www.kaggle.com/residentmario/grouping-and-sorting).**\n",
    "\n",
    "---\n"
   ]
  },
  {
   "cell_type": "markdown",
   "metadata": {
    "papermill": {
     "duration": 0.013246,
     "end_time": "2021-03-13T15:50:34.389186",
     "exception": false,
     "start_time": "2021-03-13T15:50:34.375940",
     "status": "completed"
    },
    "tags": []
   },
   "source": [
    "# Introduction\n",
    "\n",
    "In these exercises we'll apply groupwise analysis to our dataset.\n",
    "\n",
    "Run the code cell below to load the data before running the exercises."
   ]
  },
  {
   "cell_type": "code",
   "execution_count": 1,
   "metadata": {
    "execution": {
     "iopub.execute_input": "2021-03-13T15:50:34.423638Z",
     "iopub.status.busy": "2021-03-13T15:50:34.422962Z",
     "iopub.status.idle": "2021-03-13T15:50:37.479642Z",
     "shell.execute_reply": "2021-03-13T15:50:37.480131Z"
    },
    "papermill": {
     "duration": 3.077286,
     "end_time": "2021-03-13T15:50:37.480472",
     "exception": false,
     "start_time": "2021-03-13T15:50:34.403186",
     "status": "completed"
    },
    "tags": []
   },
   "outputs": [
    {
     "name": "stdout",
     "output_type": "stream",
     "text": [
      "Setup complete.\n"
     ]
    }
   ],
   "source": [
    "import pandas as pd\n",
    "\n",
    "reviews = pd.read_csv(\"../input/wine-reviews/winemag-data-130k-v2.csv\", index_col=0)\n",
    "#pd.set_option(\"display.max_rows\", 5)\n",
    "\n",
    "from learntools.core import binder; binder.bind(globals())\n",
    "from learntools.pandas.grouping_and_sorting import *\n",
    "print(\"Setup complete.\")"
   ]
  },
  {
   "cell_type": "markdown",
   "metadata": {
    "papermill": {
     "duration": 0.0142,
     "end_time": "2021-03-13T15:50:37.509182",
     "exception": false,
     "start_time": "2021-03-13T15:50:37.494982",
     "status": "completed"
    },
    "tags": []
   },
   "source": [
    "# Exercises"
   ]
  },
  {
   "cell_type": "markdown",
   "metadata": {
    "papermill": {
     "duration": 0.014032,
     "end_time": "2021-03-13T15:50:37.537649",
     "exception": false,
     "start_time": "2021-03-13T15:50:37.523617",
     "status": "completed"
    },
    "tags": []
   },
   "source": [
    "## 1.\n",
    "Who are the most common wine reviewers in the dataset? Create a `Series` whose index is the `taster_twitter_handle` category from the dataset, and whose values count how many reviews each person wrote."
   ]
  },
  {
   "cell_type": "code",
   "execution_count": 2,
   "metadata": {
    "execution": {
     "iopub.execute_input": "2021-03-13T15:50:37.587379Z",
     "iopub.status.busy": "2021-03-13T15:50:37.586745Z",
     "iopub.status.idle": "2021-03-13T15:50:37.610723Z",
     "shell.execute_reply": "2021-03-13T15:50:37.611163Z"
    },
    "papermill": {
     "duration": 0.059308,
     "end_time": "2021-03-13T15:50:37.611318",
     "exception": false,
     "start_time": "2021-03-13T15:50:37.552010",
     "status": "completed"
    },
    "tags": []
   },
   "outputs": [
    {
     "data": {
      "application/javascript": [
       "parent.postMessage({\"jupyterEvent\": \"custom.exercise_interaction\", \"data\": {\"outcomeType\": 1, \"valueTowardsCompletion\": 0.16666666666666666, \"interactionType\": 1, \"questionType\": 1, \"questionId\": \"1_ReviewsWritten\", \"learnToolsVersion\": \"0.3.4\", \"failureMessage\": \"\", \"exceptionClass\": \"\", \"trace\": \"\"}}, \"*\")"
      ],
      "text/plain": [
       "<IPython.core.display.Javascript object>"
      ]
     },
     "metadata": {},
     "output_type": "display_data"
    },
    {
     "data": {
      "text/markdown": [
       "<span style=\"color:#33cc33\">Correct:</span> \n",
       "\n",
       "\n",
       "```python\n",
       "reviews_written = reviews.groupby('taster_twitter_handle').size()\n",
       "```\n",
       "or\n",
       "```python\n",
       "reviews_written = reviews.groupby('taster_twitter_handle').taster_twitter_handle.count()\n",
       "```\n"
      ],
      "text/plain": [
       "Correct: \n",
       "\n",
       "\n",
       "```python\n",
       "reviews_written = reviews.groupby('taster_twitter_handle').size()\n",
       "```\n",
       "or\n",
       "```python\n",
       "reviews_written = reviews.groupby('taster_twitter_handle').taster_twitter_handle.count()\n",
       "```"
      ]
     },
     "metadata": {},
     "output_type": "display_data"
    }
   ],
   "source": [
    "# Your code here\n",
    "reviews_written = reviews.groupby(['taster_twitter_handle']).title.count()\n",
    "\n",
    "# Check your answer\n",
    "q1.check()"
   ]
  },
  {
   "cell_type": "code",
   "execution_count": 3,
   "metadata": {
    "execution": {
     "iopub.execute_input": "2021-03-13T15:50:37.645092Z",
     "iopub.status.busy": "2021-03-13T15:50:37.644527Z",
     "iopub.status.idle": "2021-03-13T15:50:37.647521Z",
     "shell.execute_reply": "2021-03-13T15:50:37.648047Z"
    },
    "papermill": {
     "duration": 0.021269,
     "end_time": "2021-03-13T15:50:37.648195",
     "exception": false,
     "start_time": "2021-03-13T15:50:37.626926",
     "status": "completed"
    },
    "tags": []
   },
   "outputs": [],
   "source": [
    "#q1.hint()\n",
    "#q1.solution()"
   ]
  },
  {
   "cell_type": "markdown",
   "metadata": {
    "papermill": {
     "duration": 0.015111,
     "end_time": "2021-03-13T15:50:37.678273",
     "exception": false,
     "start_time": "2021-03-13T15:50:37.663162",
     "status": "completed"
    },
    "tags": []
   },
   "source": [
    "## 2.\n",
    "What is the best wine I can buy for a given amount of money? Create a `Series` whose index is wine prices and whose values is the maximum number of points a wine costing that much was given in a review. Sort the values by price, ascending (so that `4.0` dollars is at the top and `3300.0` dollars is at the bottom)."
   ]
  },
  {
   "cell_type": "code",
   "execution_count": 4,
   "metadata": {
    "execution": {
     "iopub.execute_input": "2021-03-13T15:50:37.716786Z",
     "iopub.status.busy": "2021-03-13T15:50:37.715372Z",
     "iopub.status.idle": "2021-03-13T15:50:37.728445Z",
     "shell.execute_reply": "2021-03-13T15:50:37.727769Z"
    },
    "papermill": {
     "duration": 0.034702,
     "end_time": "2021-03-13T15:50:37.728591",
     "exception": false,
     "start_time": "2021-03-13T15:50:37.693889",
     "status": "completed"
    },
    "tags": []
   },
   "outputs": [
    {
     "data": {
      "application/javascript": [
       "parent.postMessage({\"jupyterEvent\": \"custom.exercise_interaction\", \"data\": {\"outcomeType\": 1, \"valueTowardsCompletion\": 0.16666666666666666, \"interactionType\": 1, \"questionType\": 1, \"questionId\": \"2_BestRatingPerPrice\", \"learnToolsVersion\": \"0.3.4\", \"failureMessage\": \"\", \"exceptionClass\": \"\", \"trace\": \"\"}}, \"*\")"
      ],
      "text/plain": [
       "<IPython.core.display.Javascript object>"
      ]
     },
     "metadata": {},
     "output_type": "display_data"
    },
    {
     "data": {
      "text/markdown": [
       "<span style=\"color:#33cc33\">Correct</span>"
      ],
      "text/plain": [
       "Correct"
      ]
     },
     "metadata": {},
     "output_type": "display_data"
    }
   ],
   "source": [
    "best_rating_per_price = reviews.groupby(['price']).points.max().sort_index()\n",
    "\n",
    "# Check your answer\n",
    "q2.check()"
   ]
  },
  {
   "cell_type": "code",
   "execution_count": 5,
   "metadata": {
    "execution": {
     "iopub.execute_input": "2021-03-13T15:50:37.766293Z",
     "iopub.status.busy": "2021-03-13T15:50:37.765653Z",
     "iopub.status.idle": "2021-03-13T15:50:37.768708Z",
     "shell.execute_reply": "2021-03-13T15:50:37.768028Z"
    },
    "papermill": {
     "duration": 0.023367,
     "end_time": "2021-03-13T15:50:37.768847",
     "exception": false,
     "start_time": "2021-03-13T15:50:37.745480",
     "status": "completed"
    },
    "tags": []
   },
   "outputs": [],
   "source": [
    "#q2.hint()\n",
    "#q2.solution()"
   ]
  },
  {
   "cell_type": "markdown",
   "metadata": {
    "papermill": {
     "duration": 0.016083,
     "end_time": "2021-03-13T15:50:37.801517",
     "exception": false,
     "start_time": "2021-03-13T15:50:37.785434",
     "status": "completed"
    },
    "tags": []
   },
   "source": [
    "## 3.\n",
    "What are the minimum and maximum prices for each `variety` of wine? Create a `DataFrame` whose index is the `variety` category from the dataset and whose values are the `min` and `max` values thereof."
   ]
  },
  {
   "cell_type": "code",
   "execution_count": 6,
   "metadata": {
    "execution": {
     "iopub.execute_input": "2021-03-13T15:50:37.839436Z",
     "iopub.status.busy": "2021-03-13T15:50:37.838766Z",
     "iopub.status.idle": "2021-03-13T15:50:37.872536Z",
     "shell.execute_reply": "2021-03-13T15:50:37.872016Z"
    },
    "papermill": {
     "duration": 0.054776,
     "end_time": "2021-03-13T15:50:37.872673",
     "exception": false,
     "start_time": "2021-03-13T15:50:37.817897",
     "status": "completed"
    },
    "tags": []
   },
   "outputs": [
    {
     "data": {
      "application/javascript": [
       "parent.postMessage({\"jupyterEvent\": \"custom.exercise_interaction\", \"data\": {\"outcomeType\": 1, \"valueTowardsCompletion\": 0.16666666666666666, \"interactionType\": 1, \"questionType\": 1, \"questionId\": \"3_PriceExtremes\", \"learnToolsVersion\": \"0.3.4\", \"failureMessage\": \"\", \"exceptionClass\": \"\", \"trace\": \"\"}}, \"*\")"
      ],
      "text/plain": [
       "<IPython.core.display.Javascript object>"
      ]
     },
     "metadata": {},
     "output_type": "display_data"
    },
    {
     "data": {
      "text/markdown": [
       "<span style=\"color:#33cc33\">Correct</span>"
      ],
      "text/plain": [
       "Correct"
      ]
     },
     "metadata": {},
     "output_type": "display_data"
    }
   ],
   "source": [
    "price_extremes = reviews.groupby('variety').price.agg([min,max])\n",
    "\n",
    "# Check your answer\n",
    "q3.check()"
   ]
  },
  {
   "cell_type": "code",
   "execution_count": 7,
   "metadata": {
    "execution": {
     "iopub.execute_input": "2021-03-13T15:50:37.911713Z",
     "iopub.status.busy": "2021-03-13T15:50:37.910932Z",
     "iopub.status.idle": "2021-03-13T15:50:37.913947Z",
     "shell.execute_reply": "2021-03-13T15:50:37.913493Z"
    },
    "papermill": {
     "duration": 0.023702,
     "end_time": "2021-03-13T15:50:37.914067",
     "exception": false,
     "start_time": "2021-03-13T15:50:37.890365",
     "status": "completed"
    },
    "tags": []
   },
   "outputs": [],
   "source": [
    "#q3.hint()\n",
    "#q3.solution()"
   ]
  },
  {
   "cell_type": "markdown",
   "metadata": {
    "papermill": {
     "duration": 0.016669,
     "end_time": "2021-03-13T15:50:37.947254",
     "exception": false,
     "start_time": "2021-03-13T15:50:37.930585",
     "status": "completed"
    },
    "tags": []
   },
   "source": [
    "## 4.\n",
    "What are the most expensive wine varieties? Create a variable `sorted_varieties` containing a copy of the dataframe from the previous question where varieties are sorted in descending order based on minimum price, then on maximum price (to break ties)."
   ]
  },
  {
   "cell_type": "code",
   "execution_count": 8,
   "metadata": {
    "execution": {
     "iopub.execute_input": "2021-03-13T15:50:37.987489Z",
     "iopub.status.busy": "2021-03-13T15:50:37.986785Z",
     "iopub.status.idle": "2021-03-13T15:50:37.991365Z",
     "shell.execute_reply": "2021-03-13T15:50:37.990811Z"
    },
    "papermill": {
     "duration": 0.027767,
     "end_time": "2021-03-13T15:50:37.991508",
     "exception": false,
     "start_time": "2021-03-13T15:50:37.963741",
     "status": "completed"
    },
    "tags": []
   },
   "outputs": [
    {
     "data": {
      "application/javascript": [
       "parent.postMessage({\"jupyterEvent\": \"custom.exercise_interaction\", \"data\": {\"outcomeType\": 1, \"valueTowardsCompletion\": 0.16666666666666666, \"interactionType\": 1, \"questionType\": 1, \"questionId\": \"4_SortedVarieties\", \"learnToolsVersion\": \"0.3.4\", \"failureMessage\": \"\", \"exceptionClass\": \"\", \"trace\": \"\"}}, \"*\")"
      ],
      "text/plain": [
       "<IPython.core.display.Javascript object>"
      ]
     },
     "metadata": {},
     "output_type": "display_data"
    },
    {
     "data": {
      "text/markdown": [
       "<span style=\"color:#33cc33\">Correct</span>"
      ],
      "text/plain": [
       "Correct"
      ]
     },
     "metadata": {},
     "output_type": "display_data"
    }
   ],
   "source": [
    "sorted_varieties = price_extremes.sort_values(by=['min','max'], ascending=False)\n",
    "\n",
    "# Check your answer\n",
    "q4.check()"
   ]
  },
  {
   "cell_type": "code",
   "execution_count": 9,
   "metadata": {
    "execution": {
     "iopub.execute_input": "2021-03-13T15:50:38.031289Z",
     "iopub.status.busy": "2021-03-13T15:50:38.030669Z",
     "iopub.status.idle": "2021-03-13T15:50:38.033212Z",
     "shell.execute_reply": "2021-03-13T15:50:38.032635Z"
    },
    "papermill": {
     "duration": 0.023817,
     "end_time": "2021-03-13T15:50:38.033356",
     "exception": false,
     "start_time": "2021-03-13T15:50:38.009539",
     "status": "completed"
    },
    "tags": []
   },
   "outputs": [],
   "source": [
    "#q4.hint()\n",
    "#q4.solution()"
   ]
  },
  {
   "cell_type": "markdown",
   "metadata": {
    "papermill": {
     "duration": 0.018489,
     "end_time": "2021-03-13T15:50:38.070239",
     "exception": false,
     "start_time": "2021-03-13T15:50:38.051750",
     "status": "completed"
    },
    "tags": []
   },
   "source": [
    "## 5.\n",
    "Create a `Series` whose index is reviewers and whose values is the average review score given out by that reviewer. Hint: you will need the `taster_name` and `points` columns."
   ]
  },
  {
   "cell_type": "code",
   "execution_count": 10,
   "metadata": {
    "execution": {
     "iopub.execute_input": "2021-03-13T15:50:38.109056Z",
     "iopub.status.busy": "2021-03-13T15:50:38.108467Z",
     "iopub.status.idle": "2021-03-13T15:50:38.132997Z",
     "shell.execute_reply": "2021-03-13T15:50:38.132486Z"
    },
    "papermill": {
     "duration": 0.044822,
     "end_time": "2021-03-13T15:50:38.133127",
     "exception": false,
     "start_time": "2021-03-13T15:50:38.088305",
     "status": "completed"
    },
    "tags": []
   },
   "outputs": [
    {
     "data": {
      "application/javascript": [
       "parent.postMessage({\"jupyterEvent\": \"custom.exercise_interaction\", \"data\": {\"outcomeType\": 1, \"valueTowardsCompletion\": 0.16666666666666666, \"interactionType\": 1, \"questionType\": 1, \"questionId\": \"5_ReviewerMeanRatings\", \"learnToolsVersion\": \"0.3.4\", \"failureMessage\": \"\", \"exceptionClass\": \"\", \"trace\": \"\"}}, \"*\")"
      ],
      "text/plain": [
       "<IPython.core.display.Javascript object>"
      ]
     },
     "metadata": {},
     "output_type": "display_data"
    },
    {
     "data": {
      "text/markdown": [
       "<span style=\"color:#33cc33\">Correct</span>"
      ],
      "text/plain": [
       "Correct"
      ]
     },
     "metadata": {},
     "output_type": "display_data"
    }
   ],
   "source": [
    "reviewer_mean_ratings = reviews.groupby('taster_name').points.mean()\n",
    "\n",
    "# Check your answer\n",
    "q5.check()"
   ]
  },
  {
   "cell_type": "code",
   "execution_count": 11,
   "metadata": {
    "execution": {
     "iopub.execute_input": "2021-03-13T15:50:38.176861Z",
     "iopub.status.busy": "2021-03-13T15:50:38.176206Z",
     "iopub.status.idle": "2021-03-13T15:50:38.179221Z",
     "shell.execute_reply": "2021-03-13T15:50:38.178729Z"
    },
    "papermill": {
     "duration": 0.026406,
     "end_time": "2021-03-13T15:50:38.179343",
     "exception": false,
     "start_time": "2021-03-13T15:50:38.152937",
     "status": "completed"
    },
    "tags": []
   },
   "outputs": [],
   "source": [
    "#q5.hint()\n",
    "#q5.solution()"
   ]
  },
  {
   "cell_type": "markdown",
   "metadata": {
    "papermill": {
     "duration": 0.019619,
     "end_time": "2021-03-13T15:50:38.218560",
     "exception": false,
     "start_time": "2021-03-13T15:50:38.198941",
     "status": "completed"
    },
    "tags": []
   },
   "source": [
    "Are there significant differences in the average scores assigned by the various reviewers? Run the cell below to use the `describe()` method to see a summary of the range of values."
   ]
  },
  {
   "cell_type": "code",
   "execution_count": 12,
   "metadata": {
    "execution": {
     "iopub.execute_input": "2021-03-13T15:50:38.269828Z",
     "iopub.status.busy": "2021-03-13T15:50:38.268934Z",
     "iopub.status.idle": "2021-03-13T15:50:38.272547Z",
     "shell.execute_reply": "2021-03-13T15:50:38.273101Z"
    },
    "papermill": {
     "duration": 0.034732,
     "end_time": "2021-03-13T15:50:38.273262",
     "exception": false,
     "start_time": "2021-03-13T15:50:38.238530",
     "status": "completed"
    },
    "tags": []
   },
   "outputs": [
    {
     "data": {
      "text/plain": [
       "count    19.000000\n",
       "mean     88.233026\n",
       "std       1.243610\n",
       "min      85.855422\n",
       "25%      87.323501\n",
       "50%      88.536235\n",
       "75%      88.975256\n",
       "max      90.562551\n",
       "Name: points, dtype: float64"
      ]
     },
     "execution_count": 12,
     "metadata": {},
     "output_type": "execute_result"
    }
   ],
   "source": [
    "reviewer_mean_ratings.describe()"
   ]
  },
  {
   "cell_type": "markdown",
   "metadata": {
    "papermill": {
     "duration": 0.019942,
     "end_time": "2021-03-13T15:50:38.313571",
     "exception": false,
     "start_time": "2021-03-13T15:50:38.293629",
     "status": "completed"
    },
    "tags": []
   },
   "source": [
    "No, there are no significant differences."
   ]
  },
  {
   "cell_type": "markdown",
   "metadata": {
    "papermill": {
     "duration": 0.019977,
     "end_time": "2021-03-13T15:50:38.353775",
     "exception": false,
     "start_time": "2021-03-13T15:50:38.333798",
     "status": "completed"
    },
    "tags": []
   },
   "source": [
    "## 6.\n",
    "What combination of countries and varieties are most common? Create a `Series` whose index is a `MultiIndex`of `{country, variety}` pairs. For example, a pinot noir produced in the US should map to `{\"US\", \"Pinot Noir\"}`. Sort the values in the `Series` in descending order based on wine count."
   ]
  },
  {
   "cell_type": "code",
   "execution_count": 13,
   "metadata": {
    "execution": {
     "iopub.execute_input": "2021-03-13T15:50:38.398355Z",
     "iopub.status.busy": "2021-03-13T15:50:38.397419Z",
     "iopub.status.idle": "2021-03-13T15:50:38.457162Z",
     "shell.execute_reply": "2021-03-13T15:50:38.456525Z"
    },
    "papermill": {
     "duration": 0.083167,
     "end_time": "2021-03-13T15:50:38.457299",
     "exception": false,
     "start_time": "2021-03-13T15:50:38.374132",
     "status": "completed"
    },
    "tags": []
   },
   "outputs": [
    {
     "data": {
      "application/javascript": [
       "parent.postMessage({\"jupyterEvent\": \"custom.exercise_interaction\", \"data\": {\"outcomeType\": 1, \"valueTowardsCompletion\": 0.16666666666666666, \"interactionType\": 1, \"questionType\": 1, \"questionId\": \"6_GroupbyCountryVariety\", \"learnToolsVersion\": \"0.3.4\", \"failureMessage\": \"\", \"exceptionClass\": \"\", \"trace\": \"\"}}, \"*\")"
      ],
      "text/plain": [
       "<IPython.core.display.Javascript object>"
      ]
     },
     "metadata": {},
     "output_type": "display_data"
    },
    {
     "data": {
      "text/markdown": [
       "<span style=\"color:#33cc33\">Correct</span>"
      ],
      "text/plain": [
       "Correct"
      ]
     },
     "metadata": {},
     "output_type": "display_data"
    }
   ],
   "source": [
    "country_variety_counts = reviews.groupby(['country', 'variety']).variety.count().sort_values(ascending=False)\n",
    "\n",
    "# Check your answer\n",
    "q6.check()"
   ]
  },
  {
   "cell_type": "code",
   "execution_count": 14,
   "metadata": {
    "execution": {
     "iopub.execute_input": "2021-03-13T15:50:38.503188Z",
     "iopub.status.busy": "2021-03-13T15:50:38.502619Z",
     "iopub.status.idle": "2021-03-13T15:50:38.504805Z",
     "shell.execute_reply": "2021-03-13T15:50:38.505248Z"
    },
    "papermill": {
     "duration": 0.027445,
     "end_time": "2021-03-13T15:50:38.505414",
     "exception": false,
     "start_time": "2021-03-13T15:50:38.477969",
     "status": "completed"
    },
    "tags": []
   },
   "outputs": [],
   "source": [
    "#q6.hint()\n",
    "#q6.solution()"
   ]
  },
  {
   "cell_type": "markdown",
   "metadata": {
    "papermill": {
     "duration": 0.021101,
     "end_time": "2021-03-13T15:50:38.547608",
     "exception": false,
     "start_time": "2021-03-13T15:50:38.526507",
     "status": "completed"
    },
    "tags": []
   },
   "source": [
    "# Keep going\n",
    "\n",
    "Move on to the [**data types and missing data**](https://www.kaggle.com/residentmario/data-types-and-missing-values)."
   ]
  },
  {
   "cell_type": "markdown",
   "metadata": {
    "papermill": {
     "duration": 0.021345,
     "end_time": "2021-03-13T15:50:38.590842",
     "exception": false,
     "start_time": "2021-03-13T15:50:38.569497",
     "status": "completed"
    },
    "tags": []
   },
   "source": [
    "---\n",
    "\n",
    "\n",
    "\n",
    "\n",
    "*Have questions or comments? Visit the [Learn Discussion forum](https://www.kaggle.com/learn-forum/161299) to chat with other Learners.*"
   ]
  }
 ],
 "metadata": {
  "kernelspec": {
   "display_name": "Python 3",
   "language": "python",
   "name": "python3"
  },
  "language_info": {
   "codemirror_mode": {
    "name": "ipython",
    "version": 3
   },
   "file_extension": ".py",
   "mimetype": "text/x-python",
   "name": "python",
   "nbconvert_exporter": "python",
   "pygments_lexer": "ipython3",
   "version": "3.7.9"
  },
  "papermill": {
   "default_parameters": {},
   "duration": 10.369727,
   "end_time": "2021-03-13T15:50:39.221783",
   "environment_variables": {},
   "exception": null,
   "input_path": "__notebook__.ipynb",
   "output_path": "__notebook__.ipynb",
   "parameters": {},
   "start_time": "2021-03-13T15:50:28.852056",
   "version": "2.2.2"
  }
 },
 "nbformat": 4,
 "nbformat_minor": 4
}
